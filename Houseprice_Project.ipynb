# Mentor: Code Xplore
## House Price Prediction Project
### 1.Problem Definition:
-  predict the sales price for each house

### 2.Feature Selection:
- Choose Feature to train ML Model
- Need to use **Feature Enginerring** to identify Feature 

### 3.Spliting Dataset:
- **3.1 Dataset X -> Y**
- **Data**: Dataset
- **x**: **data[feature]**
- **y**: target variable **Data SalePrice**
- **3.2 X,y -> x_train,y_train,x_test,y_test**

### 4.Training Machine Learning Model

#Import Libraries
import pandas as pd
import numpy as np 
data.head()
