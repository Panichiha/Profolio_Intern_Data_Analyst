# Import Libraries
import pandas as pd
import numpy as np 
data.head()
